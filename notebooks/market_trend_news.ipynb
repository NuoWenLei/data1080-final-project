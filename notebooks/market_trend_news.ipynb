{
 "cells": [
  {
   "cell_type": "code",
   "execution_count": 1,
   "id": "2f2bcc65-8fa7-4ccf-85a3-30c470fe3507",
   "metadata": {},
   "outputs": [],
   "source": [
    "import requests, json\n",
    "from bs4 import BeautifulSoup"
   ]
  },
  {
   "cell_type": "code",
   "execution_count": 34,
   "id": "f7a6a068-0a5f-4940-bc01-07a518c1da50",
   "metadata": {},
   "outputs": [],
   "source": [
    "headers = {\n",
    "    \"X-Requested-With\": \"fetch\"\n",
    "}"
   ]
  },
  {
   "cell_type": "code",
   "execution_count": 35,
   "id": "f25b0fb0-9a38-428e-a965-3ff5d170d31c",
   "metadata": {},
   "outputs": [],
   "source": [
    "r = requests.get(\"https://www.fool.com/market-trends/filtered_articles_by_page/?page=1\", headers=headers)"
   ]
  },
  {
   "cell_type": "code",
   "execution_count": 37,
   "id": "c69bcc3f-9a98-412e-875c-f1c73811110e",
   "metadata": {},
   "outputs": [],
   "source": [
    "htmls = json.loads(r.text)"
   ]
  },
  {
   "cell_type": "code",
   "execution_count": 40,
   "id": "949cb784-9ca2-4eb2-a203-b50724dee0e6",
   "metadata": {},
   "outputs": [],
   "source": [
    "soup = BeautifulSoup(htmls['html'], \"html.parser\")"
   ]
  },
  {
   "cell_type": "code",
   "execution_count": 44,
   "id": "ccd25062-4beb-4499-8daa-db294a223fe2",
   "metadata": {},
   "outputs": [],
   "source": [
    "articles = soup.find_all(\"div\", class_=\"flex py-12px text-gray-1100\")"
   ]
  },
  {
   "cell_type": "code",
   "execution_count": 49,
   "id": "a5987edf-5b8c-47c4-ace6-b2f9f1f4cdb5",
   "metadata": {},
   "outputs": [],
   "source": [
    "art = articles[0]"
   ]
  },
  {
   "cell_type": "code",
   "execution_count": 68,
   "id": "e277c4c9-8955-498f-b23a-0613e4437758",
   "metadata": {},
   "outputs": [
    {
     "name": "stdout",
     "output_type": "stream",
     "text": [
      "2024-11-11 00:00:00\n"
     ]
    }
   ],
   "source": [
    "import datetime\n",
    "\n",
    "date_str = art.find(\"div\", class_=\"text-sm text-gray-800 mb-2px md:mb-8px\").text.split(\"by\")[0].strip()\n",
    "post_date = datetime.datetime.strptime(date_str, \"%b %d, %Y\")\n",
    "print(post_date)"
   ]
  },
  {
   "cell_type": "code",
   "execution_count": 69,
   "id": "6f04183f-3e97-4f8c-8ca0-70776c2c9657",
   "metadata": {},
   "outputs": [
    {
     "name": "stdout",
     "output_type": "stream",
     "text": [
      "Incoming President Donald Trump Has the Stock Market Rolling -- but the Bond Vigilantes Are on High Alert\n"
     ]
    }
   ],
   "source": [
    "title = art.find(\"h5\", class_=\"self-center mb-6 font-medium md:text-h5 text-md md:mb-4px\").text.strip()\n",
    "print(title)"
   ]
  },
  {
   "cell_type": "code",
   "execution_count": 70,
   "id": "07b9607c-d4b5-49fb-b2d3-32aec7aee44d",
   "metadata": {},
   "outputs": [
    {
     "name": "stdout",
     "output_type": "stream",
     "text": [
      "https://www.fool.com/investing/2024/11/11/president-donald-trump-stock-market-bonds-alert/\n"
     ]
    }
   ],
   "source": [
    "link = \"https://www.fool.com\" + art.find(\"a\")['href']\n",
    "print(link)"
   ]
  },
  {
   "cell_type": "code",
   "execution_count": 74,
   "id": "e4643bee-07f7-45ad-bba6-95175a34ae4b",
   "metadata": {},
   "outputs": [
    {
     "name": "stdout",
     "output_type": "stream",
     "text": [
      "Page 0\n"
     ]
    },
    {
     "name": "stderr",
     "output_type": "stream",
     "text": [
      "100%|████████████████████████████████████████████████████████████████████████████████████████████████████████████████████████████████████| 20/20 [00:00<00:00, 13765.36it/s]\n"
     ]
    },
    {
     "name": "stdout",
     "output_type": "stream",
     "text": [
      "Page 1\n"
     ]
    },
    {
     "name": "stderr",
     "output_type": "stream",
     "text": [
      "100%|█████████████████████████████████████████████████████████████████████████████████████████████████████████████████████████████████████| 20/20 [00:00<00:00, 5573.83it/s]\n"
     ]
    },
    {
     "name": "stdout",
     "output_type": "stream",
     "text": [
      "Page 2\n"
     ]
    },
    {
     "name": "stderr",
     "output_type": "stream",
     "text": [
      "100%|████████████████████████████████████████████████████████████████████████████████████████████████████████████████████████████████████| 20/20 [00:00<00:00, 14368.98it/s]\n"
     ]
    },
    {
     "name": "stdout",
     "output_type": "stream",
     "text": [
      "Page 3\n"
     ]
    },
    {
     "name": "stderr",
     "output_type": "stream",
     "text": [
      "100%|█████████████████████████████████████████████████████████████████████████████████████████████████████████████████████████████████████| 20/20 [00:00<00:00, 6686.28it/s]\n"
     ]
    }
   ],
   "source": [
    "from tqdm import tqdm\n",
    "import requests, json, datetime\n",
    "from bs4 import BeautifulSoup\n",
    "\n",
    "headers = {\n",
    "    \"X-Requested-With\": \"fetch\"\n",
    "}\n",
    "num_pages = 4\n",
    "\n",
    "for p in range(num_pages):\n",
    "    print(f\"Page {p}\")\n",
    "    fool_url = f\"https://www.fool.com/market-trends/filtered_articles_by_page/?page={p}\"\n",
    "    r = requests.get(fool_url, headers=headers)\n",
    "    html = json.loads(r.text)\n",
    "    soup = BeautifulSoup(html['html'], \"html.parser\")\n",
    "    articles_raw = soup.find_all(\"div\", class_=\"flex py-12px text-gray-1100\")\n",
    "    articles = []\n",
    "    for art in tqdm(articles_raw):\n",
    "        article = dict()\n",
    "        \n",
    "        date_str = art.find(\"div\", class_=\"text-sm text-gray-800 mb-2px md:mb-8px\").text.split(\"by\")[0].strip()\n",
    "        post_date = datetime.datetime.strptime(date_str, \"%b %d, %Y\")\n",
    "        article[\"date\"] = post_date\n",
    "\n",
    "        title = art.find(\"h5\", class_=\"self-center mb-6 font-medium md:text-h5 text-md md:mb-4px\").text.strip()\n",
    "        article[\"title\"] = title\n",
    "\n",
    "        link = \"https://www.fool.com\" + art.find(\"a\")['href']\n",
    "        article[\"link\"] = link\n",
    "\n",
    "        articles.append(article)\n"
   ]
  },
  {
   "cell_type": "code",
   "execution_count": 75,
   "id": "31f44e18-328f-4dc7-923e-5bc29b9f52c6",
   "metadata": {},
   "outputs": [
    {
     "data": {
      "text/plain": [
       "[{'date': datetime.datetime(2024, 11, 6, 0, 0),\n",
       "  'title': \"Is It Time to Buy October's Worst-Performing Nasdaq Stocks?\",\n",
       "  'link': 'https://www.fool.com/investing/2024/11/06/is-it-time-to-buy-octobers-worst-performing-nasdaq/'},\n",
       " {'date': datetime.datetime(2024, 11, 6, 0, 0),\n",
       "  'title': 'Warren Buffett Just Sent Wall Street a Historic $127 Billion Warning. History Says the Stock Market Will Do This Next.',\n",
       "  'link': 'https://www.fool.com/investing/2024/11/06/warren-buffett-historic-warning-stock-market-next/'},\n",
       " {'date': datetime.datetime(2024, 11, 6, 0, 0),\n",
       "  'title': \"Republicans Reclaim the Senate Majority: Here's What History Says Happens to Stocks When the GOP Controls the Upper House of Congress\",\n",
       "  'link': 'https://www.fool.com/investing/2024/11/06/republicans-take-senate-what-history-says-stocks/'},\n",
       " {'date': datetime.datetime(2024, 11, 5, 0, 0),\n",
       "  'title': 'With 2024 Almost Over, These Are the 5 Top-Performing Stocks in the S&P 500',\n",
       "  'link': 'https://www.fool.com/investing/2024/11/05/these-are-the-5-top-performing-stocks-in-the-sp-50/'},\n",
       " {'date': datetime.datetime(2024, 11, 5, 0, 0),\n",
       "  'title': '5 Top Stocks to Buy in November',\n",
       "  'link': 'https://www.fool.com/investing/2024/11/05/5-top-stocks-to-buy-in-november/'},\n",
       " {'date': datetime.datetime(2024, 11, 5, 0, 0),\n",
       "  'title': \"It's Election Day! Here's What Investors Can Expect From the Stock Market and How They Might Take Advantage Once the Winner Is Announced.\",\n",
       "  'link': 'https://www.fool.com/investing/2024/11/05/its-election-day-heres-what-investors-can-expect-f/'},\n",
       " {'date': datetime.datetime(2024, 11, 5, 0, 0),\n",
       "  'title': \"Here Are Billionaire Bill Gates' 5 Biggest Holdings\",\n",
       "  'link': 'https://www.fool.com/investing/2024/11/05/billionaire-bill-gates-biggest-stock-holdings/'},\n",
       " {'date': datetime.datetime(2024, 11, 5, 0, 0),\n",
       "  'title': \"Here's the Income and Net Worth You Need to Reach the Top 50% of Americans\",\n",
       "  'link': 'https://www.fool.com/investing/2024/11/05/income-net-worth-you-need-reach-top-50-americans/'},\n",
       " {'date': datetime.datetime(2024, 11, 5, 0, 0),\n",
       "  'title': '1 Unstoppable Vanguard ETF That Could Turn $1,000 Into $143,000 or More With Next to No Effort',\n",
       "  'link': 'https://www.fool.com/investing/2024/11/05/1-unstoppable-vanguard-etf-that-could-turn-1000-in/'},\n",
       " {'date': datetime.datetime(2024, 11, 4, 0, 0),\n",
       "  'title': 'The Best Technology ETF to Invest $1,000 in Right Now',\n",
       "  'link': 'https://www.fool.com/investing/2024/11/04/best-technology-etf-to-invest-1000-in-right-now/'},\n",
       " {'date': datetime.datetime(2024, 11, 4, 0, 0),\n",
       "  'title': 'The Smartest Fintech ETF to Buy With $500 Right Now',\n",
       "  'link': 'https://www.fool.com/investing/2024/11/04/the-smartest-fintech-etf-to-buy-with-500-right-now/'},\n",
       " {'date': datetime.datetime(2024, 11, 4, 0, 0),\n",
       "  'title': '1 S&P 500 ETF to Buy With $1,000 and Hold Forever',\n",
       "  'link': 'https://www.fool.com/investing/2024/11/04/1-sp-500-etf-to-buy-with-1000-and-hold-forever/'},\n",
       " {'date': datetime.datetime(2024, 11, 4, 0, 0),\n",
       "  'title': 'iShares Core MSCI EAFE ETF: Your Gateway to International Markets',\n",
       "  'link': 'https://www.fool.com/investing/2024/11/04/ishares-core-msci-eafe-etf-your-gateway-to-interna/'},\n",
       " {'date': datetime.datetime(2024, 11, 4, 0, 0),\n",
       "  'title': '1 Vanguard ETF to Buy and 1 to Hold for Passive Income Investors',\n",
       "  'link': 'https://www.fool.com/investing/2024/11/04/buy-vanguard-etf-hold-vanguard-etf-passive-income/'},\n",
       " {'date': datetime.datetime(2024, 11, 4, 0, 0),\n",
       "  'title': 'S&P 500 Valuations Have Soared. History Says the Index Will Do This Next.',\n",
       "  'link': 'https://www.fool.com/investing/2024/11/04/sp-500-valuations-soar-history-says-this-is-next/'},\n",
       " {'date': datetime.datetime(2024, 11, 4, 0, 0),\n",
       "  'title': \"Prediction: Here's How Warren Buffett Will Invest If Donald Trump Beats Kamala Harris\",\n",
       "  'link': 'https://www.fool.com/investing/2024/11/04/prediction-warren-buffett-invest-trump-harris/'},\n",
       " {'date': datetime.datetime(2024, 11, 3, 0, 0),\n",
       "  'title': 'The Stock Market Will Be Watching These Congressional Races Very Closely on Election Night',\n",
       "  'link': 'https://www.fool.com/investing/2024/11/03/wall-street-will-be-watching-these-congressional-r/'},\n",
       " {'date': datetime.datetime(2024, 11, 3, 0, 0),\n",
       "  'title': \"Is It Time to Buy October's Worst-Performing Dow Jones Stocks?\",\n",
       "  'link': 'https://www.fool.com/investing/2024/11/03/is-it-time-to-buy-octobers-worst-performing-dow-jo/'},\n",
       " {'date': datetime.datetime(2024, 11, 3, 0, 0),\n",
       "  'title': \"Billionaire Investor Ken Griffin Foresees New Highs for the Market After the Presidential Election. Here's Why.\",\n",
       "  'link': 'https://www.fool.com/investing/2024/11/03/billionaire-investor-ken-griffin-foresees-new-high/'},\n",
       " {'date': datetime.datetime(2024, 11, 3, 0, 0),\n",
       "  'title': \"Is It Time to Buy October's Worst-Performing S&P 500 Stocks?\",\n",
       "  'link': 'https://www.fool.com/investing/2024/11/03/is-it-time-to-buy-octobers-worst-performing-sp-500/'}]"
      ]
     },
     "execution_count": 75,
     "metadata": {},
     "output_type": "execute_result"
    }
   ],
   "source": [
    "articles"
   ]
  },
  {
   "cell_type": "code",
   "execution_count": 76,
   "id": "56477a03-b282-48ed-abd3-c05b3a51fd50",
   "metadata": {},
   "outputs": [],
   "source": [
    "r = requests.get(\"https://www.fool.com/investing/2024/11/03/is-it-time-to-buy-octobers-worst-performing-sp-500/\")"
   ]
  },
  {
   "cell_type": "code",
   "execution_count": 86,
   "id": "c03feb66-e673-4b71-a443-c8b16fcd0edf",
   "metadata": {},
   "outputs": [],
   "source": [
    "soup = BeautifulSoup(r.text, \"html.parser\")"
   ]
  },
  {
   "cell_type": "code",
   "execution_count": 85,
   "id": "598dd559-123a-462c-ada2-6fda24120b66",
   "metadata": {},
   "outputs": [],
   "source": [
    "paragraphs = [p.text for p in soup.find(\"section\", class_=\"container mx-auto bg-white px-24px md:px-40 pt-36px sm:pt-16px md:pt-16px md:pb-8\").find_all(\"p\")]"
   ]
  },
  {
   "cell_type": "code",
   "execution_count": 90,
   "id": "4293edbe-00dd-42ef-af81-632312de7f79",
   "metadata": {},
   "outputs": [
    {
     "name": "stdout",
     "output_type": "stream",
     "text": [
      "These four poorly performing tickers are hinting at broader, bigger-picture problems that investors will want to altogether avoid.\n",
      "Generally speaking, when you buy a stock doesn't really matter if it's a good company and you are investing with a long-term mindset. But that doesn't mean it doesn't help your overall returns to buy a stock when it's trading at a discount. Doing so helps you get more bang for your investment buck.\n",
      "However, not all discounted stocks are necessarily worth buying. There's always more to the story. Sometimes a stock's setback is a warning of even more trouble ahead.\n",
      "Before blindly diving into October's worst-performing S&P 500 (^GSPC 0.03%) stocks just because they're suddenly trading cheaper, here's a look at the rest of the story. You may not want to scoop up any of them just yet.\n",
      "Getting straight to the point, last month's biggest S&P 500 losers were Super Micro Computer (SMCI -4.49%), Qorvo (QRVO -2.83%), Huntington Ingalls Industries (HII 2.24%), and Estée Lauder (EL 2.36%). Each stock was downright boring for the better part of the month. In just the last two days of October, however, each ticker ended up losing on the order of 30% versus the index's 1% dip.\n",
      "\n",
      "^SPX data by YCharts\n",
      "There's a common thread: last quarter's earnings and/or guidance for the current quarter. Many companies in a wide range of industries are finally feeling the impact of economic challenges.\n",
      "Take semiconductor company Qorvo as an example. Although it beat its top- and bottom-line estimates for the three-month stretch ending in September, its revenue guidance of about $900 million for the quarter now underway fell short of analysts' consensus of $1.06 billion. The company cited stiff competition and tepid smartphone demand as the key cause for its lackluster outlook.\n",
      "Estée Lauder's story is a similar one, although arguably worse. While its fiscal first-quarter results were more or less in line with expectations, they were still down from year-ago comparisons. The crux of the stock's steep sell-off, however, was the company's decision to cut its dividend and withdraw guidance for the full year mostly due to uncertainty regarding its business in China. Despite the nation's fresh stimulus efforts, CEO Fabrizio Freda explained, \"Consumer sentiment in Mainland China weakened further in our first quarter.\" He added, \"We anticipate still strong declines near term for the industry.\"\n",
      "The underlying economic lethargy may even be undermining government spending to some degree. Not only did Huntington Ingalls' quarterly earnings fall short of estimates, but the shipbuilder was forced to lower its five-year cash-flow outlook thanks to new doubts about a contract with the U.S. Navy and supply chain challenges.\n",
      "And Super Micro Computer? It's a bit of an outlier, being the only name of the four laggards to tumble for a reason other than earnings. Accounting firm Ernst & Young resigned as the company's auditor last week, saying it was \"unwilling to be associated\" with the technology company that allegedly ignored the firm's concerns about Supermicro's accounting practices and internal controls. While Ernst & Young's exit doesn't necessarily mean the company didn't achieve the stellar results it's been reporting of late, it does call them into question.\n",
      "So now what?\n",
      "The discounts are deep to be sure. And, although each company clearly has its problems at this time, none of them are insurmountable. Most of them are temporary in nature, in fact, stemming from predictably cyclical challenges. Even Super Micro Computer's woes will eventually be put in the rearview mirror.\n",
      "But this is a situation in which interested investors might want to take a step back and proverbially read the room -- starting with the sheer scope and size of these sell-offs.\n",
      "Simply put, there's more going on here than just knee-jerk overreactions to a handful of disappointing quarterly reports. These steep sell-offs are an indication of just how quickly -- and how decisively -- the market is coming to sweeping bearish conclusions.\n",
      "See, it's not just these four tickers. While these are the worst of the worst, a few dozen S&P 500 constituents logged double-digit losses in October. Some of these setbacks were earnings-related. Others were just because. All of them, however, arguably underscore broad concerns about future earnings and the overall market's valuation. The S&P 500's trailing-12-month price-to-earnings ratio of 25 and its forward-looking ratio of 24 are both above long-term bull market norms.\n",
      "Perhaps without even consciously realizing it, investors are looking for ways and reasons to adjust these numbers.\n",
      "And that's what makes buying any of these beaten-down stocks such a dangerous proposition right now. These four names have already been identified as the market's top targets. Right or wrong, investors could hold on to or even foment a \"pile on\" attitude for these tickers, driving them even lower before they reach their ultimate lows.\n",
      "Making them even riskier is the fact that these four companies are struggling for reasons beyond their immediate control, leaving them somewhat powerless to combat their challenges.\n",
      "Huntington Ingalls' business, for example, is almost exclusively shipbuilding for a fickle U.S. Department of Defense. Estée Lauder's target market is similarly fickle, with many regular cosmetics users perpetually hunting for something new, and often hunting for brands other than the obvious major ones.\n",
      "For instance, consumer research company McKinsey reported earlier this year that nearly half of Gen Z consumers try a new beauty brand every two to three months, while only 60% of this crowd claims to be truly loyal to a particular cosmetics brand. Between an increasingly crowded market and a lethargic economy, Estée Lauder's future is far from promising.\n",
      "Investors are finally starting to sense this, it seems.\n",
      "This won't always be the case. Sooner or later, each of these companies will fare better than they're doing right now. Their stocks will follow suit. Nothing lasts forever, after all, including weakness.\n",
      "Until that time, though, take the bigger hint being dropped by the sheer size and number of post-earnings and guidance-prompted plunges. We're in an environment where investors are quick to sell en masse, and companies are able to deliver just enough concerning news to spark that selling. It could take a while to work through this rough patch. These four names are probably best avoided in the meantime simply because they're the poster children for this dynamic.\n",
      "James Brumley has no position in any of the stocks mentioned. The Motley Fool recommends Qorvo. The Motley Fool has a disclosure policy.\n",
      "Related Articles\n"
     ]
    }
   ],
   "source": [
    "print(\"\\n\".join(paragraphs))"
   ]
  },
  {
   "cell_type": "code",
   "execution_count": 97,
   "id": "798c49c1-2a41-4d76-9405-775a40dcd347",
   "metadata": {},
   "outputs": [
    {
     "data": {
      "text/plain": [
       "'These losses are overblown compared to their underlying companies’ actual challenges at this time.'"
      ]
     },
     "execution_count": 97,
     "metadata": {},
     "output_type": "execute_result"
    }
   ],
   "source": [
    "soup.find(\"div\", class_=\"mt-8 bg-white shadow-card p-20px\").find(\"ul\").find_all(\"li\")[0].find_all(\"div\")[-1].text"
   ]
  },
  {
   "cell_type": "code",
   "execution_count": 113,
   "id": "513e7792-7688-4331-b4e7-ee2392863ea1",
   "metadata": {},
   "outputs": [],
   "source": [
    "sector_articles = [\n",
    "    \"https://www.fool.com/investing/stock-market/market-sectors/\",\n",
    "    \"https://www.fool.com/investing/stock-market/market-sectors/materials/\",\n",
    "    \"https://www.fool.com/investing/stock-market/market-sectors/industrials/\",\n",
    "    \"https://www.fool.com/investing/stock-market/market-sectors/consumer-staples/\",\n",
    "    \"https://www.fool.com/investing/stock-market/market-sectors/information-technology/\",\n",
    "    \"https://www.fool.com/investing/stock-market/market-sectors/real-estate-investing/\",\n",
    "    \"https://www.fool.com/investing/stock-market/market-sectors/energy/\",\n",
    "    \"https://www.fool.com/investing/stock-market/market-sectors/healthcare/\"\n",
    "]"
   ]
  },
  {
   "cell_type": "code",
   "execution_count": 117,
   "id": "b2ad88bb-a2b4-4e47-bf84-d8151dc78702",
   "metadata": {},
   "outputs": [],
   "source": [
    "r = requests.get(\"https://www.fool.com/investing/stock-market/market-sectors/healthcare/\")\n",
    "soup = BeautifulSoup(r.text, \"html.parser\")\n",
    "paragraphs = [p.text for p in soup.find(\"div\",\n",
    "                            class_=\"max-w-full w-full mx-auto article-body\"\n",
    "                            ).find_all(\"p\")]\n",
    "\n",
    "key_points = [filter(lambda x : x.text.strip() != \"\",\n",
    "                     point.contents).__next__()\n",
    "              for point in soup.find(\"div\", class_=\"mt-8 bg-white shadow-card p-20px\").find(\"ul\").find_all(\"li\")]\n",
    "content = \"\\n\".join(key_points + paragraphs)"
   ]
  },
  {
   "cell_type": "code",
   "execution_count": 131,
   "id": "8b5b20f0-4fc8-4db3-b54e-dafa06dda3ad",
   "metadata": {},
   "outputs": [
    {
     "data": {
      "text/plain": [
       "'\\n'"
      ]
     },
     "execution_count": 131,
     "metadata": {},
     "output_type": "execute_result"
    }
   ],
   "source": [
    "soup.find(\"div\", class_=\"mt-8 bg-white shadow-card p-20px\").find(\"ul\").find_all(\"li\")[0].contents[0].text"
   ]
  },
  {
   "cell_type": "code",
   "execution_count": 132,
   "id": "8bc30d32-c1a5-4aab-9a6b-dd653d61f6c7",
   "metadata": {},
   "outputs": [
    {
     "data": {
      "text/plain": [
       "<div>Healthcare sector offers vast investment potential with $8.3 trillion global spending, half in the U.S.</div>"
      ]
     },
     "execution_count": 132,
     "metadata": {},
     "output_type": "execute_result"
    }
   ],
   "source": []
  },
  {
   "cell_type": "code",
   "execution_count": null,
   "id": "4bce5a0f-2534-48aa-bb27-3f8e0fb63695",
   "metadata": {},
   "outputs": [],
   "source": []
  }
 ],
 "metadata": {
  "kernelspec": {
   "display_name": "Python 3 (ipykernel)",
   "language": "python",
   "name": "python3"
  },
  "language_info": {
   "codemirror_mode": {
    "name": "ipython",
    "version": 3
   },
   "file_extension": ".py",
   "mimetype": "text/x-python",
   "name": "python",
   "nbconvert_exporter": "python",
   "pygments_lexer": "ipython3",
   "version": "3.11.10"
  }
 },
 "nbformat": 4,
 "nbformat_minor": 5
}
